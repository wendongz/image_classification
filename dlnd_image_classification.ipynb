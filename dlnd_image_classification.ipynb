{
 "cells": [
  {
   "cell_type": "markdown",
   "metadata": {
    "collapsed": true
   },
   "source": [
    "# Image Classification\n",
    "In this project, you'll classify images from the [CIFAR-10 dataset](https://www.cs.toronto.edu/~kriz/cifar.html).  The dataset consists of airplanes, dogs, cats, and other objects. You'll preprocess the images, then train a convolutional neural network on all the samples. The images need to be normalized and the labels need to be one-hot encoded.  You'll get to apply what you learned and build a convolutional, max pooling, dropout, and fully connected layers.  At the end, you'll get to see your neural network's predictions on the sample images.\n",
    "## Get the Data\n",
    "Run the following cell to download the [CIFAR-10 dataset for python](https://www.cs.toronto.edu/~kriz/cifar-10-python.tar.gz)."
   ]
  },
  {
   "cell_type": "code",
   "execution_count": 2,
   "metadata": {
    "collapsed": false
   },
   "outputs": [
    {
     "name": "stdout",
     "output_type": "stream",
     "text": [
      "All files found!\n"
     ]
    }
   ],
   "source": [
    "\"\"\"\n",
    "DON'T MODIFY ANYTHING IN THIS CELL THAT IS BELOW THIS LINE\n",
    "\"\"\"\n",
    "from urllib.request import urlretrieve\n",
    "from os.path import isfile, isdir\n",
    "from tqdm import tqdm\n",
    "import problem_unittests as tests\n",
    "import tarfile\n",
    "\n",
    "cifar10_dataset_folder_path = 'cifar-10-batches-py'\n",
    "\n",
    "class DLProgress(tqdm):\n",
    "    last_block = 0\n",
    "\n",
    "    def hook(self, block_num=1, block_size=1, total_size=None):\n",
    "        self.total = total_size\n",
    "        self.update((block_num - self.last_block) * block_size)\n",
    "        self.last_block = block_num\n",
    "\n",
    "if not isfile('cifar-10-python.tar.gz'):\n",
    "    with DLProgress(unit='B', unit_scale=True, miniters=1, desc='CIFAR-10 Dataset') as pbar:\n",
    "        urlretrieve(\n",
    "            'https://www.cs.toronto.edu/~kriz/cifar-10-python.tar.gz',\n",
    "            'cifar-10-python.tar.gz',\n",
    "            pbar.hook)\n",
    "\n",
    "if not isdir(cifar10_dataset_folder_path):\n",
    "    with tarfile.open('cifar-10-python.tar.gz') as tar:\n",
    "        tar.extractall()\n",
    "        tar.close()\n",
    "\n",
    "\n",
    "tests.test_folder_path(cifar10_dataset_folder_path)"
   ]
  },
  {
   "cell_type": "markdown",
   "metadata": {},
   "source": [
    "## Explore the Data\n",
    "The dataset is broken into batches to prevent your machine from running out of memory.  The CIFAR-10 dataset consists of 5 batches, named `data_batch_1`, `data_batch_2`, etc.. Each batch contains the labels and images that are one of the following:\n",
    "* airplane\n",
    "* automobile\n",
    "* bird\n",
    "* cat\n",
    "* deer\n",
    "* dog\n",
    "* frog\n",
    "* horse\n",
    "* ship\n",
    "* truck\n",
    "\n",
    "Understanding a dataset is part of making predictions on the data.  Play around with the code cell below by changing the `batch_id` and `sample_id`. The `batch_id` is the id for a batch (1-5). The `sample_id` is the id for a image and label pair in the batch.\n",
    "\n",
    "Ask yourself \"What are all possible labels?\", \"What is the range of values for the image data?\", \"Are the labels in order or random?\".  Answers to questions like these will help you preprocess the data and end up with better predictions."
   ]
  },
  {
   "cell_type": "code",
   "execution_count": 3,
   "metadata": {
    "collapsed": false
   },
   "outputs": [
    {
     "name": "stdout",
     "output_type": "stream",
     "text": [
      "\n",
      "Stats of batch 5:\n",
      "Samples: 10000\n",
      "Label Counts: {0: 1014, 1: 1014, 2: 952, 3: 1016, 4: 997, 5: 1025, 6: 980, 7: 977, 8: 1003, 9: 1022}\n",
      "First 20 Labels: [1, 8, 5, 1, 5, 7, 4, 3, 8, 2, 7, 2, 0, 1, 5, 9, 6, 2, 0, 8]\n",
      "\n",
      "Example of Image 9999:\n",
      "Image - Min Value: 4 Max Value: 255\n",
      "Image - Shape: (32, 32, 3)\n",
      "Label - Label Id: 1 Name: automobile\n"
     ]
    },
    {
     "data": {
      "image/png": "[encoded data removed]",
      "text/plain": [
       "<matplotlib.figure.Figure at 0x7f5da94e6668>"
      ]
     },
     "metadata": {
      "image/png": {
       "height": 250,
       "width": 253
      }
     },
     "output_type": "display_data"
    }
   ],
   "source": [
    "%matplotlib inline\n",
    "%config InlineBackend.figure_format = 'retina'\n",
    "\n",
    "import helper\n",
    "import numpy as np\n",
    "\n",
    "# Explore the dataset\n",
    "batch_id = 5\n",
    "sample_id = 9999\n",
    "helper.display_stats(cifar10_dataset_folder_path, batch_id, sample_id)"
   ]
  },
  {
   "cell_type": "markdown",
   "metadata": {},
   "source": [
    "## Implement Preprocess Functions\n",
    "### Normalize\n",
    "In the cell below, implement the `normalize` function to take in image data, `x`, and return it as a normalized Numpy array. The values should be in the range of 0 to 1, inclusive.  The return object should be the same shape as `x`."
   ]
  },
  {
   "cell_type": "code",
   "execution_count": 4,
   "metadata": {
    "collapsed": false
   },
   "outputs": [
    {
     "name": "stdout",
     "output_type": "stream",
     "text": [
      "Tests Passed\n"
     ]
    }
   ],
   "source": [
    "def normalize(x):\n",
    "    \"\"\"\n",
    "    Normalize a list of sample image data in the range of 0 to 1\n",
    "    : x: List of image data.  The image shape is (32, 32, 3)\n",
    "    : return: Numpy array of normalize data\n",
    "    \"\"\"\n",
    "    # TODO: Implement Function\n",
    "    \n",
    "    return (x - np.min(x)) / (np.max(x) - np.min(x))\n",
    "\n",
    "\n",
    "\"\"\"\n",
    "DON'T MODIFY ANYTHING IN THIS CELL THAT IS BELOW THIS LINE\n",
    "\"\"\"\n",
    "tests.test_normalize(normalize)"
   ]
  },
  {
   "cell_type": "markdown",
   "metadata": {},
   "source": [
    "### One-hot encode\n",
    "Just like the previous code cell, you'll be implementing a function for preprocessing.  This time, you'll implement the `one_hot_encode` function. The input, `x`, are a list of labels.  Implement the function to return the list of labels as One-Hot encoded Numpy array.  The possible values for labels are 0 to 9. The one-hot encoding function should return the same encoding for each value between each call to `one_hot_encode`.  Make sure to save the map of encodings outside the function.\n",
    "\n",
    "Hint: Don't reinvent the wheel."
   ]
  },
  {
   "cell_type": "code",
   "execution_count": 5,
   "metadata": {
    "collapsed": false
   },
   "outputs": [
    {
     "name": "stdout",
     "output_type": "stream",
     "text": [
      "Tests Passed\n"
     ]
    }
   ],
   "source": [
    "def one_hot_encode(x):\n",
    "    \"\"\"\n",
    "    One hot encode a list of sample labels. Return a one-hot encoded vector for each label.\n",
    "    : x: List of sample Labels\n",
    "    : return: Numpy array of one-hot encoded labels\n",
    "    \"\"\"\n",
    "    # TODO: Implement Function\n",
    "    return np.eye(10)[x]\n",
    "\n",
    "\n",
    "\"\"\"\n",
    "DON'T MODIFY ANYTHING IN THIS CELL THAT IS BELOW THIS LINE\n",
    "\"\"\"\n",
    "tests.test_one_hot_encode(one_hot_encode)"
   ]
  },
  {
   "cell_type": "markdown",
   "metadata": {},
   "source": [
    "### Randomize Data\n",
    "As you saw from exploring the data above, the order of the samples are randomized.  It doesn't hurt to randomize it again, but you don't need to for this dataset."
   ]
  },
  {
   "cell_type": "markdown",
   "metadata": {},
   "source": [
    "## Preprocess all the data and save it\n",
    "Running the code cell below will preprocess all the CIFAR-10 data and save it to file. The code below also uses 10% of the training data for validation."
   ]
  },
  {
   "cell_type": "code",
   "execution_count": 6,
   "metadata": {
    "collapsed": false
   },
   "outputs": [],
   "source": [
    "\"\"\"\n",
    "DON'T MODIFY ANYTHING IN THIS CELL\n",
    "\"\"\"\n",
    "# Preprocess Training, Validation, and Testing Data\n",
    "helper.preprocess_and_save_data(cifar10_dataset_folder_path, normalize, one_hot_encode)"
   ]
  },
  {
   "cell_type": "markdown",
   "metadata": {},
   "source": [
    "# Check Point\n",
    "This is your first checkpoint.  If you ever decide to come back to this notebook or have to restart the notebook, you can start from here.  The preprocessed data has been saved to disk."
   ]
  },
  {
   "cell_type": "code",
   "execution_count": 1,
   "metadata": {
    "collapsed": true
   },
   "outputs": [],
   "source": [
    "\"\"\"\n",
    "DON'T MODIFY ANYTHING IN THIS CELL\n",
    "\"\"\"\n",
    "import pickle\n",
    "import problem_unittests as tests\n",
    "import helper\n",
    "\n",
    "# Load the Preprocessed Validation data\n",
    "valid_features, valid_labels = pickle.load(open('preprocess_validation.p', mode='rb'))"
   ]
  },
  {
   "cell_type": "markdown",
   "metadata": {},
   "source": [
    "## Build the network\n",
    "For the neural network, you'll build each layer into a function.  Most of the code you've seen has been outside of functions. To test your code more thoroughly, we require that you put each layer in a function.  This allows us to give you better feedback and test for simple mistakes using our unittests before you submit your project.\n",
    "\n",
    "If you're finding it hard to dedicate enough time for this course a week, we've provided a small shortcut to this part of the project. In the next couple of problems, you'll have the option to use [TensorFlow Layers](https://www.tensorflow.org/api_docs/python/tf/layers) or [TensorFlow Layers (contrib)](https://www.tensorflow.org/api_guides/python/contrib.layers) to build each layer, except \"Convolutional & Max Pooling\" layer.  TF Layers is similar to Keras's and TFLearn's abstraction to layers, so it's easy to pickup.\n",
    "\n",
    "If you would like to get the most of this course, try to solve all the problems without TF Layers.  Let's begin!\n",
    "### Input\n",
    "The neural network needs to read the image data, one-hot encoded labels, and dropout keep probability. Implement the following functions\n",
    "* Implement `neural_net_image_input`\n",
    " * Return a [TF Placeholder](https://www.tensorflow.org/api_docs/python/tf/placeholder)\n",
    " * Set the shape using `image_shape` with batch size set to `None`.\n",
    " * Name the TensorFlow placeholder \"x\" using the TensorFlow `name` parameter in the [TF Placeholder](https://www.tensorflow.org/api_docs/python/tf/placeholder).\n",
    "* Implement `neural_net_label_input`\n",
    " * Return a [TF Placeholder](https://www.tensorflow.org/api_docs/python/tf/placeholder)\n",
    " * Set the shape using `n_classes` with batch size set to `None`.\n",
    " * Name the TensorFlow placeholder \"y\" using the TensorFlow `name` parameter in the [TF Placeholder](https://www.tensorflow.org/api_docs/python/tf/placeholder).\n",
    "* Implement `neural_net_keep_prob_input`\n",
    " * Return a [TF Placeholder](https://www.tensorflow.org/api_docs/python/tf/placeholder) for dropout keep probability.\n",
    " * Name the TensorFlow placeholder \"keep_prob\" using the TensorFlow `name` parameter in the [TF Placeholder](https://www.tensorflow.org/api_docs/python/tf/placeholder).\n",
    "\n",
    "These names will be used at the end of the project to load your saved model.\n",
    "\n",
    "Note: `None` for shapes in TensorFlow allow for a dynamic size."
   ]
  },
  {
   "cell_type": "code",
   "execution_count": 2,
   "metadata": {
    "collapsed": false
   },
   "outputs": [
    {
     "name": "stdout",
     "output_type": "stream",
     "text": [
      "Image Input Tests Passed.\n",
      "Label Input Tests Passed.\n",
      "Keep Prob Tests Passed.\n"
     ]
    }
   ],
   "source": [
    "import tensorflow as tf\n",
    "\n",
    "def neural_net_image_input(image_shape):\n",
    "    \"\"\"\n",
    "    Return a Tensor for a bach of image input\n",
    "    : image_shape: Shape of the images\n",
    "    : return: Tensor for image input.\n",
    "    \"\"\"\n",
    "    # TODO: Implement Function\n",
    "    return tf.placeholder(tf.float32, [None, *image_shape], name='x')\n",
    "\n",
    "\n",
    "def neural_net_label_input(n_classes):\n",
    "    \"\"\"\n",
    "    Return a Tensor for a batch of label input\n",
    "    : n_classes: Number of classes\n",
    "    : return: Tensor for label input.\n",
    "    \"\"\"\n",
    "    # TODO: Implement Function\n",
    "    return tf.placeholder(tf.float32, [None, n_classes], name='y')\n",
    "\n",
    "\n",
    "def neural_net_keep_prob_input():\n",
    "    \"\"\"\n",
    "    Return a Tensor for keep probability\n",
    "    : return: Tensor for keep probability.\n",
    "    \"\"\"\n",
    "    # TODO: Implement Function\n",
    "    return tf.placeholder(tf.float32, name='keep_prob')\n",
    "\n",
    "\n",
    "\"\"\"\n",
    "DON'T MODIFY ANYTHING IN THIS CELL THAT IS BELOW THIS LINE\n",
    "\"\"\"\n",
    "tf.reset_default_graph()\n",
    "tests.test_nn_image_inputs(neural_net_image_input)\n",
    "tests.test_nn_label_inputs(neural_net_label_input)\n",
    "tests.test_nn_keep_prob_inputs(neural_net_keep_prob_input)"
   ]
  },
  {
   "cell_type": "markdown",
   "metadata": {},
   "source": [
    "### Convolution and Max Pooling Layer\n",
    "Convolution layers have a lot of success with images. For this code cell, you should implement the function `conv2d_maxpool` to apply convolution then max pooling:\n",
    "* Create the weight and bias using `conv_ksize`, `conv_num_outputs` and the shape of `x_tensor`.\n",
    "* Apply a convolution to `x_tensor` using weight and `conv_strides`.\n",
    " * We recommend you use same padding, but you're welcome to use any padding.\n",
    "* Add bias\n",
    "* Add a nonlinear activation to the convolution.\n",
    "* Apply Max Pooling using `pool_ksize` and `pool_strides`.\n",
    " * We recommend you use same padding, but you're welcome to use any padding.\n",
    "\n",
    "Note: You **can't** use [TensorFlow Layers](https://www.tensorflow.org/api_docs/python/tf/layers) or [TensorFlow Layers (contrib)](https://www.tensorflow.org/api_guides/python/contrib.layers) for this layer.  You're free to use any TensorFlow package for all the other layers."
   ]
  },
  {
   "cell_type": "code",
   "execution_count": 12,
   "metadata": {
    "collapsed": false
   },
   "outputs": [
    {
     "name": "stdout",
     "output_type": "stream",
     "text": [
      "Tests Passed\n"
     ]
    }
   ],
   "source": [
    "def conv2d_maxpool(x_tensor, conv_num_outputs, conv_ksize, conv_strides, pool_ksize, pool_strides):\n",
    "    \"\"\"\n",
    "    Apply convolution then max pooling to x_tensor\n",
    "    :param x_tensor: TensorFlow Tensor\n",
    "    :param conv_num_outputs: Number of outputs for the convolutional layer\n",
    "    :param conv_strides: Stride 2-D Tuple for convolution\n",
    "    :param pool_ksize: kernal size 2-D Tuple for pool\n",
    "    :param pool_strides: Stride 2-D Tuple for pool\n",
    "    : return: A tensor that represents convolution and max pooling of x_tensor\n",
    "    \"\"\"\n",
    "    # TODO: Implement Function\n",
    "    inp = int(x_tensor.shape[3])\n",
    "    W = tf.Variable(tf.random_normal([conv_ksize[0], conv_ksize[1], inp, conv_num_outputs], stddev=0.01))\n",
    "    b = tf.Variable(tf.zeros(conv_num_outputs))\n",
    "    \n",
    "    x = tf.nn.conv2d(x_tensor, W, strides=[1, conv_strides[0], conv_strides[1], 1], padding='SAME')\n",
    "    x = tf.nn.bias_add(x, b)\n",
    "    x = tf.nn.relu(x)\n",
    "    x = tf.nn.max_pool(x, ksize=[1, pool_ksize[0], pool_ksize[1], 1], \n",
    "                          strides=[1, pool_strides[0], pool_strides[1], 1],\n",
    "                          padding='SAME')\n",
    "    return x\n",
    "\n",
    "\n",
    "\"\"\"\n",
    "DON'T MODIFY ANYTHING IN THIS CELL THAT IS BELOW THIS LINE\n",
    "\"\"\"\n",
    "tests.test_con_pool(conv2d_maxpool)"
   ]
  },
  {
   "cell_type": "markdown",
   "metadata": {},
   "source": [
    "### Flatten Layer\n",
    "Implement the `flatten` function to change the dimension of `x_tensor` from a 4-D tensor to a 2-D tensor.  The output should be the shape (*Batch Size*, *Flattened Image Size*). You can use [TensorFlow Layers](https://www.tensorflow.org/api_docs/python/tf/layers) or [TensorFlow Layers (contrib)](https://www.tensorflow.org/api_guides/python/contrib.layers) for this layer."
   ]
  },
  {
   "cell_type": "code",
   "execution_count": 13,
   "metadata": {
    "collapsed": false
   },
   "outputs": [
    {
     "name": "stdout",
     "output_type": "stream",
     "text": [
      "Tests Passed\n"
     ]
    }
   ],
   "source": [
    "def flatten(x_tensor):\n",
    "    \"\"\"\n",
    "    Flatten x_tensor to (Batch Size, Flattened Image Size)\n",
    "    : x_tensor: A tensor of size (Batch Size, ...), where ... are the image dimensions.\n",
    "    : return: A tensor of size (Batch Size, Flattened Image Size).\n",
    "    \"\"\"\n",
    "    # TODO: Implement Function\n",
    "    \n",
    "    batch_size, *img = x_tensor.get_shape().as_list()\n",
    "    image_size = img[0] * img[1] * img[2]\n",
    "    return tf.reshape(x_tensor, [-1, image_size])\n",
    "\n",
    "\n",
    "\"\"\"\n",
    "DON'T MODIFY ANYTHING IN THIS CELL THAT IS BELOW THIS LINE\n",
    "\"\"\"\n",
    "tests.test_flatten(flatten)"
   ]
  },
  {
   "cell_type": "markdown",
   "metadata": {},
   "source": [
    "### Fully-Connected Layer\n",
    "Implement the `fully_conn` function to apply a fully connected layer to `x_tensor` with the shape (*Batch Size*, *num_outputs*). You can use [TensorFlow Layers](https://www.tensorflow.org/api_docs/python/tf/layers) or [TensorFlow Layers (contrib)](https://www.tensorflow.org/api_guides/python/contrib.layers) for this layer."
   ]
  },
  {
   "cell_type": "code",
   "execution_count": 14,
   "metadata": {
    "collapsed": false
   },
   "outputs": [
    {
     "name": "stdout",
     "output_type": "stream",
     "text": [
      "Tests Passed\n"
     ]
    }
   ],
   "source": [
    "def fully_conn(x_tensor, num_outputs):\n",
    "    \"\"\"\n",
    "    Apply a fully connected layer to x_tensor using weight and bias\n",
    "    : x_tensor: A 2-D tensor where the first dimension is batch size.\n",
    "    : num_outputs: The number of output that the new tensor should be.\n",
    "    : return: A 2-D tensor where the second dimension is num_outputs.\n",
    "    \"\"\"\n",
    "    # TODO: Implement Function\n",
    "    shape = x_tensor.get_shape().as_list()\n",
    "    W = tf.Variable(tf.random_normal([shape[-1], num_outputs], stddev = 0.1))\n",
    "    b = tf.Variable(tf.zeros(num_outputs))\n",
    "    x = tf.add(tf.matmul(x_tensor, W), b)\n",
    "    x = tf.nn.relu(x)\n",
    "    return x\n",
    "\n",
    "\n",
    "\"\"\"\n",
    "DON'T MODIFY ANYTHING IN THIS CELL THAT IS BELOW THIS LINE\n",
    "\"\"\"\n",
    "tests.test_fully_conn(fully_conn)"
   ]
  },
  {
   "cell_type": "markdown",
   "metadata": {},
   "source": [
    "### Output Layer\n",
    "Implement the `output` function to apply a fully connected layer to `x_tensor` with the shape (*Batch Size*, *num_outputs*). You can use [TensorFlow Layers](https://www.tensorflow.org/api_docs/python/tf/layers) or [TensorFlow Layers (contrib)](https://www.tensorflow.org/api_guides/python/contrib.layers) for this layer.\n",
    "\n",
    "Note: Activation, softmax, or cross entropy shouldn't be applied to this."
   ]
  },
  {
   "cell_type": "code",
   "execution_count": 15,
   "metadata": {
    "collapsed": false
   },
   "outputs": [
    {
     "name": "stdout",
     "output_type": "stream",
     "text": [
      "Tests Passed\n"
     ]
    }
   ],
   "source": [
    "def output(x_tensor, num_outputs):\n",
    "    \"\"\"\n",
    "    Apply a output layer to x_tensor using weight and bias\n",
    "    : x_tensor: A 2-D tensor where the first dimension is batch size.\n",
    "    : num_outputs: The number of output that the new tensor should be.\n",
    "    : return: A 2-D tensor where the second dimension is num_outputs.\n",
    "    \"\"\"\n",
    "    # TODO: Implement Function\n",
    "    shape = x_tensor.get_shape().as_list()\n",
    "    W = tf.Variable(tf.random_normal([shape[-1], num_outputs]))\n",
    "    b = tf.Variable(tf.zeros(num_outputs))\n",
    "    x = tf.add(tf.matmul(x_tensor, W), b)\n",
    "    return x\n",
    "\n",
    "\n",
    "\"\"\"\n",
    "DON'T MODIFY ANYTHING IN THIS CELL THAT IS BELOW THIS LINE\n",
    "\"\"\"\n",
    "tests.test_output(output)"
   ]
  },
  {
   "cell_type": "markdown",
   "metadata": {},
   "source": [
    "### Create Convolutional Model\n",
    "Implement the function `conv_net` to create a convolutional neural network model. The function takes in a batch of images, `x`, and outputs logits.  Use the layers you created above to create this model:\n",
    "\n",
    "* Apply 1, 2, or 3 Convolution and Max Pool layers\n",
    "* Apply a Flatten Layer\n",
    "* Apply 1, 2, or 3 Fully Connected Layers\n",
    "* Apply an Output Layer\n",
    "* Return the output\n",
    "* Apply [TensorFlow's Dropout](https://www.tensorflow.org/api_docs/python/tf/nn/dropout) to one or more layers in the model using `keep_prob`. "
   ]
  },
  {
   "cell_type": "code",
   "execution_count": 16,
   "metadata": {
    "collapsed": false
   },
   "outputs": [
    {
     "name": "stdout",
     "output_type": "stream",
     "text": [
      "Neural Network Built!\n"
     ]
    }
   ],
   "source": [
    "def conv_net(x, keep_prob):\n",
    "    \"\"\"\n",
    "    Create a convolutional neural network model\n",
    "    : x: Placeholder tensor that holds image data.\n",
    "    : keep_prob: Placeholder tensor that hold dropout keep probability.\n",
    "    : return: Tensor that represents logits\n",
    "    \"\"\"\n",
    "    # TODO: Apply 1, 2, or 3 Convolution and Max Pool layers\n",
    "    #    Play around with different number of outputs, kernel size and stride\n",
    "    # Function Definition from Above:\n",
    "    #x = conv2d_maxpool(x, 32, [3,3], [1,1], [2,2], [2,2])\n",
    "    #x = conv2d_maxpool(x, 64, [3,3], [1,1], [2,2], [2,2])\n",
    "    x = conv2d_maxpool(x, 32, (3, 3), (1, 1), (2, 2), (2, 2))\n",
    "    x = conv2d_maxpool(x, 32, (3, 3), (2, 2), (2, 2), (2, 2))\n",
    "    x = conv2d_maxpool(x, 64, (3, 3), (1, 1), (2, 2), (2, 2))    \n",
    "    #x = conv2d_maxpool(x, 32, (3, 3), (1, 1), (2, 2), (2, 2))\n",
    "\n",
    "    # TODO: Apply a Flatten Layer\n",
    "    # Function Definition from Above:\n",
    "    x = flatten(x)\n",
    "    \n",
    "\n",
    "    # TODO: Apply 1, 2, or 3 Fully Connected Layers\n",
    "    #    Play around with different number of outputs\n",
    "    # Function Definition from Above:\n",
    "    x = fully_conn(x, 512)\n",
    "    x = tf.nn.dropout(x, keep_prob)\n",
    "    \n",
    "    x = fully_conn(x, 128)\n",
    "    x = tf.nn.dropout(x, keep_prob)\n",
    "    \n",
    "    # TODO: Apply an Output Layer\n",
    "    #    Set this to the number of classes\n",
    "    # Function Definition from Above:\n",
    "    x = output(x, 10)\n",
    "    \n",
    "    \n",
    "    # TODO: return output\n",
    "    return x\n",
    "\n",
    "\n",
    "\"\"\"\n",
    "DON'T MODIFY ANYTHING IN THIS CELL THAT IS BELOW THIS LINE\n",
    "\"\"\"\n",
    "\n",
    "##############################\n",
    "## Build the Neural Network ##\n",
    "##############################\n",
    "\n",
    "# Remove previous weights, bias, inputs, etc..\n",
    "tf.reset_default_graph()\n",
    "\n",
    "# Inputs\n",
    "x = neural_net_image_input((32, 32, 3))\n",
    "y = neural_net_label_input(10)\n",
    "keep_prob = neural_net_keep_prob_input()\n",
    "\n",
    "# Model\n",
    "logits = conv_net(x, keep_prob)\n",
    "\n",
    "# Name logits Tensor, so that is can be loaded from disk after training\n",
    "logits = tf.identity(logits, name='logits')\n",
    "\n",
    "# Loss and Optimizer\n",
    "cost = tf.reduce_mean(tf.nn.softmax_cross_entropy_with_logits(logits=logits, labels=y))\n",
    "optimizer = tf.train.AdamOptimizer().minimize(cost)\n",
    "\n",
    "# Accuracy\n",
    "correct_pred = tf.equal(tf.argmax(logits, 1), tf.argmax(y, 1))\n",
    "accuracy = tf.reduce_mean(tf.cast(correct_pred, tf.float32), name='accuracy')\n",
    "\n",
    "tests.test_conv_net(conv_net)"
   ]
  },
  {
   "cell_type": "markdown",
   "metadata": {},
   "source": [
    "## Train the Neural Network\n",
    "### Single Optimization\n",
    "Implement the function `train_neural_network` to do a single optimization.  The optimization should use `optimizer` to optimize in `session` with a `feed_dict` of the following:\n",
    "* `x` for image input\n",
    "* `y` for labels\n",
    "* `keep_prob` for keep probability for dropout\n",
    "\n",
    "This function will be called for each batch, so `tf.global_variables_initializer()` has already been called.\n",
    "\n",
    "Note: Nothing needs to be returned. This function is only optimizing the neural network."
   ]
  },
  {
   "cell_type": "code",
   "execution_count": 17,
   "metadata": {
    "collapsed": false
   },
   "outputs": [
    {
     "name": "stdout",
     "output_type": "stream",
     "text": [
      "Tests Passed\n"
     ]
    }
   ],
   "source": [
    "def train_neural_network(session, optimizer, keep_probability, feature_batch, label_batch):\n",
    "    \"\"\"\n",
    "    Optimize the session on a batch of images and labels\n",
    "    : session: Current TensorFlow session\n",
    "    : optimizer: TensorFlow optimizer function\n",
    "    : keep_probability: keep probability\n",
    "    : feature_batch: Batch of Numpy image data\n",
    "    : label_batch: Batch of Numpy label data\n",
    "    \"\"\"\n",
    "    # TODO: Implement Function\n",
    "    session.run(optimizer, feed_dict={x:feature_batch, y:label_batch, keep_prob: keep_probability})\n",
    "\n",
    "\"\"\"\n",
    "DON'T MODIFY ANYTHING IN THIS CELL THAT IS BELOW THIS LINE\n",
    "\"\"\"\n",
    "tests.test_train_nn(train_neural_network)"
   ]
  },
  {
   "cell_type": "markdown",
   "metadata": {},
   "source": [
    "### Show Stats\n",
    "Implement the function `print_stats` to print loss and validation accuracy.  Use the global variables `valid_features` and `valid_labels` to calculate validation accuracy.  Use a keep probability of `1.0` to calculate the loss and validation accuracy."
   ]
  },
  {
   "cell_type": "code",
   "execution_count": 18,
   "metadata": {
    "collapsed": false
   },
   "outputs": [],
   "source": [
    "def print_stats(session, feature_batch, label_batch, cost, accuracy):\n",
    "    \"\"\"\n",
    "    Print information about loss and validation accuracy\n",
    "    : session: Current TensorFlow session\n",
    "    : feature_batch: Batch of Numpy image data\n",
    "    : label_batch: Batch of Numpy label data\n",
    "    : cost: TensorFlow cost function\n",
    "    : accuracy: TensorFlow accuracy function\n",
    "    \"\"\"\n",
    "    # TODO: Implement Function\n",
    "    valid_accuracy = session.run(accuracy, feed_dict={x: valid_features, y: valid_labels, keep_prob: 1.0})\n",
    "    \n",
    "    loss = session.run(cost, feed_dict={x: feature_batch, y: label_batch, keep_prob: 1.0})\n",
    "    \n",
    "    #print(\"Loss = {0}, Accuracy = {1}\", format(loss, valid_accuracy))\n",
    "    print('Loss: {:>10.4f} Validation Accuracy: {:.6f}'.format(loss, valid_accuracy))"
   ]
  },
  {
   "cell_type": "markdown",
   "metadata": {},
   "source": [
    "### Hyperparameters\n",
    "Tune the following parameters:\n",
    "* Set `epochs` to the number of iterations until the network stops learning or start overfitting\n",
    "* Set `batch_size` to the highest number that your machine has memory for.  Most people set them to common sizes of memory:\n",
    " * 64\n",
    " * 128\n",
    " * 256\n",
    " * ...\n",
    "* Set `keep_probability` to the probability of keeping a node using dropout"
   ]
  },
  {
   "cell_type": "code",
   "execution_count": 19,
   "metadata": {
    "collapsed": true
   },
   "outputs": [],
   "source": [
    "# TODO: Tune Parameters\n",
    "epochs = 50\n",
    "batch_size = 256\n",
    "keep_probability = 0.5"
   ]
  },
  {
   "cell_type": "markdown",
   "metadata": {},
   "source": [
    "### Train on a Single CIFAR-10 Batch\n",
    "Instead of training the neural network on all the CIFAR-10 batches of data, let's use a single batch. This should save time while you iterate on the model to get a better accuracy.  Once the final validation accuracy is 50% or greater, run the model on all the data in the next section."
   ]
  },
  {
   "cell_type": "code",
   "execution_count": 20,
   "metadata": {
    "collapsed": false
   },
   "outputs": [
    {
     "name": "stdout",
     "output_type": "stream",
     "text": [
      "Checking the Training on a Single Batch...\n",
      "Epoch  1, CIFAR-10 Batch 1:  Loss:     2.3026 Validation Accuracy: 0.099800\n",
      "Epoch  2, CIFAR-10 Batch 1:  Loss:     2.2831 Validation Accuracy: 0.095800\n",
      "Epoch  3, CIFAR-10 Batch 1:  Loss:     2.2101 Validation Accuracy: 0.189200\n",
      "Epoch  4, CIFAR-10 Batch 1:  Loss:     2.1557 Validation Accuracy: 0.240200\n",
      "Epoch  5, CIFAR-10 Batch 1:  Loss:     2.1463 Validation Accuracy: 0.265200\n",
      "Epoch  6, CIFAR-10 Batch 1:  Loss:     2.1150 Validation Accuracy: 0.276600\n",
      "Epoch  7, CIFAR-10 Batch 1:  Loss:     2.0147 Validation Accuracy: 0.299400\n",
      "Epoch  8, CIFAR-10 Batch 1:  Loss:     1.9715 Validation Accuracy: 0.303400\n",
      "Epoch  9, CIFAR-10 Batch 1:  Loss:     1.8934 Validation Accuracy: 0.317800\n",
      "Epoch 10, CIFAR-10 Batch 1:  Loss:     1.8133 Validation Accuracy: 0.362200\n",
      "Epoch 11, CIFAR-10 Batch 1:  Loss:     1.7801 Validation Accuracy: 0.384800\n",
      "Epoch 12, CIFAR-10 Batch 1:  Loss:     1.7289 Validation Accuracy: 0.373000\n",
      "Epoch 13, CIFAR-10 Batch 1:  Loss:     1.7182 Validation Accuracy: 0.387800\n",
      "Epoch 14, CIFAR-10 Batch 1:  Loss:     1.6566 Validation Accuracy: 0.395200\n",
      "Epoch 15, CIFAR-10 Batch 1:  Loss:     1.6243 Validation Accuracy: 0.425200\n",
      "Epoch 16, CIFAR-10 Batch 1:  Loss:     1.5879 Validation Accuracy: 0.427600\n",
      "Epoch 17, CIFAR-10 Batch 1:  Loss:     1.5661 Validation Accuracy: 0.432600\n",
      "Epoch 18, CIFAR-10 Batch 1:  Loss:     1.5667 Validation Accuracy: 0.426800\n",
      "Epoch 19, CIFAR-10 Batch 1:  Loss:     1.5208 Validation Accuracy: 0.430800\n",
      "Epoch 20, CIFAR-10 Batch 1:  Loss:     1.4694 Validation Accuracy: 0.442400\n",
      "Epoch 21, CIFAR-10 Batch 1:  Loss:     1.4210 Validation Accuracy: 0.451800\n",
      "Epoch 22, CIFAR-10 Batch 1:  Loss:     1.4012 Validation Accuracy: 0.453200\n",
      "Epoch 23, CIFAR-10 Batch 1:  Loss:     1.4251 Validation Accuracy: 0.441400\n",
      "Epoch 24, CIFAR-10 Batch 1:  Loss:     1.3555 Validation Accuracy: 0.447800\n",
      "Epoch 25, CIFAR-10 Batch 1:  Loss:     1.3755 Validation Accuracy: 0.433600\n",
      "Epoch 26, CIFAR-10 Batch 1:  Loss:     1.2829 Validation Accuracy: 0.458200\n",
      "Epoch 27, CIFAR-10 Batch 1:  Loss:     1.2559 Validation Accuracy: 0.448200\n",
      "Epoch 28, CIFAR-10 Batch 1:  Loss:     1.2602 Validation Accuracy: 0.445800\n",
      "Epoch 29, CIFAR-10 Batch 1:  Loss:     1.2423 Validation Accuracy: 0.441200\n",
      "Epoch 30, CIFAR-10 Batch 1:  Loss:     1.1728 Validation Accuracy: 0.454000\n",
      "Epoch 31, CIFAR-10 Batch 1:  Loss:     1.2056 Validation Accuracy: 0.452800\n",
      "Epoch 32, CIFAR-10 Batch 1:  Loss:     1.1742 Validation Accuracy: 0.464800\n",
      "Epoch 33, CIFAR-10 Batch 1:  Loss:     1.1196 Validation Accuracy: 0.469800\n",
      "Epoch 34, CIFAR-10 Batch 1:  Loss:     1.1133 Validation Accuracy: 0.474400\n",
      "Epoch 35, CIFAR-10 Batch 1:  Loss:     1.0627 Validation Accuracy: 0.468600\n",
      "Epoch 36, CIFAR-10 Batch 1:  Loss:     1.0470 Validation Accuracy: 0.472000\n",
      "Epoch 37, CIFAR-10 Batch 1:  Loss:     1.0288 Validation Accuracy: 0.473600\n",
      "Epoch 38, CIFAR-10 Batch 1:  Loss:     1.0053 Validation Accuracy: 0.472800\n",
      "Epoch 39, CIFAR-10 Batch 1:  Loss:     0.9839 Validation Accuracy: 0.469600\n",
      "Epoch 40, CIFAR-10 Batch 1:  Loss:     0.9600 Validation Accuracy: 0.477800\n",
      "Epoch 41, CIFAR-10 Batch 1:  Loss:     0.9010 Validation Accuracy: 0.477600\n",
      "Epoch 42, CIFAR-10 Batch 1:  Loss:     0.9071 Validation Accuracy: 0.477600\n",
      "Epoch 43, CIFAR-10 Batch 1:  Loss:     0.8781 Validation Accuracy: 0.477400\n",
      "Epoch 44, CIFAR-10 Batch 1:  Loss:     0.8521 Validation Accuracy: 0.480800\n",
      "Epoch 45, CIFAR-10 Batch 1:  Loss:     0.8068 Validation Accuracy: 0.481000\n",
      "Epoch 46, CIFAR-10 Batch 1:  Loss:     0.8092 Validation Accuracy: 0.483400\n",
      "Epoch 47, CIFAR-10 Batch 1:  Loss:     0.7733 Validation Accuracy: 0.487600\n",
      "Epoch 48, CIFAR-10 Batch 1:  Loss:     0.7500 Validation Accuracy: 0.489400\n",
      "Epoch 49, CIFAR-10 Batch 1:  Loss:     0.7419 Validation Accuracy: 0.486800\n",
      "Epoch 50, CIFAR-10 Batch 1:  Loss:     0.7342 Validation Accuracy: 0.487800\n"
     ]
    }
   ],
   "source": [
    "\"\"\"\n",
    "DON'T MODIFY ANYTHING IN THIS CELL\n",
    "\"\"\"\n",
    "print('Checking the Training on a Single Batch...')\n",
    "with tf.Session() as sess:\n",
    "    # Initializing the variables\n",
    "    sess.run(tf.global_variables_initializer())\n",
    "    \n",
    "    # Training cycle\n",
    "    for epoch in range(epochs):\n",
    "        batch_i = 1\n",
    "        for batch_features, batch_labels in helper.load_preprocess_training_batch(batch_i, batch_size):\n",
    "            train_neural_network(sess, optimizer, keep_probability, batch_features, batch_labels)\n",
    "        print('Epoch {:>2}, CIFAR-10 Batch {}:  '.format(epoch + 1, batch_i), end='')\n",
    "        print_stats(sess, batch_features, batch_labels, cost, accuracy)"
   ]
  },
  {
   "cell_type": "markdown",
   "metadata": {},
   "source": [
    "### Fully Train the Model\n",
    "Now that you got a good accuracy with a single CIFAR-10 batch, try it with all five batches."
   ]
  },
  {
   "cell_type": "code",
   "execution_count": 21,
   "metadata": {
    "collapsed": false
   },
   "outputs": [
    {
     "name": "stdout",
     "output_type": "stream",
     "text": [
      "Training...\n",
      "Epoch  1, CIFAR-10 Batch 1:  Loss:     2.2791 Validation Accuracy: 0.110000\n",
      "Epoch  1, CIFAR-10 Batch 2:  Loss:     2.1953 Validation Accuracy: 0.220800\n",
      "Epoch  1, CIFAR-10 Batch 3:  Loss:     1.9479 Validation Accuracy: 0.224800\n",
      "Epoch  1, CIFAR-10 Batch 4:  Loss:     2.0000 Validation Accuracy: 0.224600\n",
      "Epoch  1, CIFAR-10 Batch 5:  Loss:     2.0917 Validation Accuracy: 0.273800\n",
      "Epoch  2, CIFAR-10 Batch 1:  Loss:     2.0602 Validation Accuracy: 0.308200\n",
      "Epoch  2, CIFAR-10 Batch 2:  Loss:     1.9360 Validation Accuracy: 0.330600\n",
      "Epoch  2, CIFAR-10 Batch 3:  Loss:     1.6945 Validation Accuracy: 0.345600\n",
      "Epoch  2, CIFAR-10 Batch 4:  Loss:     1.6890 Validation Accuracy: 0.365400\n",
      "Epoch  2, CIFAR-10 Batch 5:  Loss:     1.7896 Validation Accuracy: 0.378400\n",
      "Epoch  3, CIFAR-10 Batch 1:  Loss:     1.8255 Validation Accuracy: 0.398800\n",
      "Epoch  3, CIFAR-10 Batch 2:  Loss:     1.6861 Validation Accuracy: 0.394800\n",
      "Epoch  3, CIFAR-10 Batch 3:  Loss:     1.6067 Validation Accuracy: 0.403200\n",
      "Epoch  3, CIFAR-10 Batch 4:  Loss:     1.5860 Validation Accuracy: 0.415800\n",
      "Epoch  3, CIFAR-10 Batch 5:  Loss:     1.5994 Validation Accuracy: 0.431400\n",
      "Epoch  4, CIFAR-10 Batch 1:  Loss:     1.6340 Validation Accuracy: 0.433200\n",
      "Epoch  4, CIFAR-10 Batch 2:  Loss:     1.5473 Validation Accuracy: 0.454400\n",
      "Epoch  4, CIFAR-10 Batch 3:  Loss:     1.3571 Validation Accuracy: 0.448000\n",
      "Epoch  4, CIFAR-10 Batch 4:  Loss:     1.4970 Validation Accuracy: 0.460400\n",
      "Epoch  4, CIFAR-10 Batch 5:  Loss:     1.5755 Validation Accuracy: 0.457200\n",
      "Epoch  5, CIFAR-10 Batch 1:  Loss:     1.5093 Validation Accuracy: 0.456800\n",
      "Epoch  5, CIFAR-10 Batch 2:  Loss:     1.4572 Validation Accuracy: 0.477600\n",
      "Epoch  5, CIFAR-10 Batch 3:  Loss:     1.3204 Validation Accuracy: 0.465200\n",
      "Epoch  5, CIFAR-10 Batch 4:  Loss:     1.4329 Validation Accuracy: 0.470200\n",
      "Epoch  5, CIFAR-10 Batch 5:  Loss:     1.5305 Validation Accuracy: 0.478200\n",
      "Epoch  6, CIFAR-10 Batch 1:  Loss:     1.3858 Validation Accuracy: 0.466400\n",
      "Epoch  6, CIFAR-10 Batch 2:  Loss:     1.3920 Validation Accuracy: 0.483200\n",
      "Epoch  6, CIFAR-10 Batch 3:  Loss:     1.2196 Validation Accuracy: 0.494200\n",
      "Epoch  6, CIFAR-10 Batch 4:  Loss:     1.3126 Validation Accuracy: 0.499400\n",
      "Epoch  6, CIFAR-10 Batch 5:  Loss:     1.4352 Validation Accuracy: 0.494400\n",
      "Epoch  7, CIFAR-10 Batch 1:  Loss:     1.2928 Validation Accuracy: 0.495000\n",
      "Epoch  7, CIFAR-10 Batch 2:  Loss:     1.3645 Validation Accuracy: 0.511400\n",
      "Epoch  7, CIFAR-10 Batch 3:  Loss:     1.1899 Validation Accuracy: 0.508600\n",
      "Epoch  7, CIFAR-10 Batch 4:  Loss:     1.1923 Validation Accuracy: 0.514000\n",
      "Epoch  7, CIFAR-10 Batch 5:  Loss:     1.3746 Validation Accuracy: 0.517200\n",
      "Epoch  8, CIFAR-10 Batch 1:  Loss:     1.2404 Validation Accuracy: 0.521400\n",
      "Epoch  8, CIFAR-10 Batch 2:  Loss:     1.3418 Validation Accuracy: 0.498600\n",
      "Epoch  8, CIFAR-10 Batch 3:  Loss:     1.1217 Validation Accuracy: 0.521600\n",
      "Epoch  8, CIFAR-10 Batch 4:  Loss:     1.1664 Validation Accuracy: 0.525200\n",
      "Epoch  8, CIFAR-10 Batch 5:  Loss:     1.3169 Validation Accuracy: 0.527200\n",
      "Epoch  9, CIFAR-10 Batch 1:  Loss:     1.1673 Validation Accuracy: 0.529400\n",
      "Epoch  9, CIFAR-10 Batch 2:  Loss:     1.2309 Validation Accuracy: 0.525200\n",
      "Epoch  9, CIFAR-10 Batch 3:  Loss:     1.1137 Validation Accuracy: 0.531600\n",
      "Epoch  9, CIFAR-10 Batch 4:  Loss:     1.1311 Validation Accuracy: 0.527400\n",
      "Epoch  9, CIFAR-10 Batch 5:  Loss:     1.2674 Validation Accuracy: 0.536400\n",
      "Epoch 10, CIFAR-10 Batch 1:  Loss:     1.0667 Validation Accuracy: 0.534000\n",
      "Epoch 10, CIFAR-10 Batch 2:  Loss:     1.1760 Validation Accuracy: 0.533600\n",
      "Epoch 10, CIFAR-10 Batch 3:  Loss:     1.0650 Validation Accuracy: 0.539000\n",
      "Epoch 10, CIFAR-10 Batch 4:  Loss:     1.0639 Validation Accuracy: 0.547200\n",
      "Epoch 10, CIFAR-10 Batch 5:  Loss:     1.2339 Validation Accuracy: 0.544200\n",
      "Epoch 11, CIFAR-10 Batch 1:  Loss:     1.0656 Validation Accuracy: 0.542000\n",
      "Epoch 11, CIFAR-10 Batch 2:  Loss:     1.1664 Validation Accuracy: 0.540200\n",
      "Epoch 11, CIFAR-10 Batch 3:  Loss:     1.0321 Validation Accuracy: 0.548000\n",
      "Epoch 11, CIFAR-10 Batch 4:  Loss:     1.0186 Validation Accuracy: 0.544000\n",
      "Epoch 11, CIFAR-10 Batch 5:  Loss:     1.2065 Validation Accuracy: 0.543800\n",
      "Epoch 12, CIFAR-10 Batch 1:  Loss:     1.0208 Validation Accuracy: 0.542600\n",
      "Epoch 12, CIFAR-10 Batch 2:  Loss:     1.1207 Validation Accuracy: 0.543200\n",
      "Epoch 12, CIFAR-10 Batch 3:  Loss:     1.0174 Validation Accuracy: 0.556600\n",
      "Epoch 12, CIFAR-10 Batch 4:  Loss:     1.0098 Validation Accuracy: 0.556200\n",
      "Epoch 12, CIFAR-10 Batch 5:  Loss:     1.1460 Validation Accuracy: 0.557000\n",
      "Epoch 13, CIFAR-10 Batch 1:  Loss:     0.9645 Validation Accuracy: 0.553800\n",
      "Epoch 13, CIFAR-10 Batch 2:  Loss:     1.0804 Validation Accuracy: 0.527000\n",
      "Epoch 13, CIFAR-10 Batch 3:  Loss:     1.0062 Validation Accuracy: 0.557200\n",
      "Epoch 13, CIFAR-10 Batch 4:  Loss:     0.9883 Validation Accuracy: 0.549600\n",
      "Epoch 13, CIFAR-10 Batch 5:  Loss:     1.0971 Validation Accuracy: 0.559400\n",
      "Epoch 14, CIFAR-10 Batch 1:  Loss:     0.9705 Validation Accuracy: 0.555800\n",
      "Epoch 14, CIFAR-10 Batch 2:  Loss:     1.0587 Validation Accuracy: 0.533200\n",
      "Epoch 14, CIFAR-10 Batch 3:  Loss:     0.9743 Validation Accuracy: 0.558200\n",
      "Epoch 14, CIFAR-10 Batch 4:  Loss:     0.9725 Validation Accuracy: 0.561800\n",
      "Epoch 14, CIFAR-10 Batch 5:  Loss:     1.0594 Validation Accuracy: 0.564000\n",
      "Epoch 15, CIFAR-10 Batch 1:  Loss:     0.9034 Validation Accuracy: 0.569200\n",
      "Epoch 15, CIFAR-10 Batch 2:  Loss:     0.9902 Validation Accuracy: 0.546000\n",
      "Epoch 15, CIFAR-10 Batch 3:  Loss:     0.9465 Validation Accuracy: 0.562600\n",
      "Epoch 15, CIFAR-10 Batch 4:  Loss:     0.9429 Validation Accuracy: 0.567600\n",
      "Epoch 15, CIFAR-10 Batch 5:  Loss:     1.0086 Validation Accuracy: 0.574000\n",
      "Epoch 16, CIFAR-10 Batch 1:  Loss:     0.9191 Validation Accuracy: 0.567800\n",
      "Epoch 16, CIFAR-10 Batch 2:  Loss:     0.9527 Validation Accuracy: 0.571000\n",
      "Epoch 16, CIFAR-10 Batch 3:  Loss:     0.8791 Validation Accuracy: 0.571800\n",
      "Epoch 16, CIFAR-10 Batch 4:  Loss:     0.9308 Validation Accuracy: 0.569000\n",
      "Epoch 16, CIFAR-10 Batch 5:  Loss:     0.9901 Validation Accuracy: 0.574600\n",
      "Epoch 17, CIFAR-10 Batch 1:  Loss:     0.9108 Validation Accuracy: 0.576000\n",
      "Epoch 17, CIFAR-10 Batch 2:  Loss:     0.9155 Validation Accuracy: 0.578000\n",
      "Epoch 17, CIFAR-10 Batch 3:  Loss:     0.8517 Validation Accuracy: 0.577800\n",
      "Epoch 17, CIFAR-10 Batch 4:  Loss:     0.9244 Validation Accuracy: 0.567400\n",
      "Epoch 17, CIFAR-10 Batch 5:  Loss:     0.9542 Validation Accuracy: 0.573600\n",
      "Epoch 18, CIFAR-10 Batch 1:  Loss:     0.9126 Validation Accuracy: 0.565200\n",
      "Epoch 18, CIFAR-10 Batch 2:  Loss:     0.9512 Validation Accuracy: 0.568800\n",
      "Epoch 18, CIFAR-10 Batch 3:  Loss:     0.8173 Validation Accuracy: 0.577200\n",
      "Epoch 18, CIFAR-10 Batch 4:  Loss:     0.8836 Validation Accuracy: 0.582400\n",
      "Epoch 18, CIFAR-10 Batch 5:  Loss:     0.9317 Validation Accuracy: 0.586800\n",
      "Epoch 19, CIFAR-10 Batch 1:  Loss:     0.8929 Validation Accuracy: 0.574800\n",
      "Epoch 19, CIFAR-10 Batch 2:  Loss:     0.9081 Validation Accuracy: 0.569000\n",
      "Epoch 19, CIFAR-10 Batch 3:  Loss:     0.8092 Validation Accuracy: 0.586400\n",
      "Epoch 19, CIFAR-10 Batch 4:  Loss:     0.8824 Validation Accuracy: 0.582600\n",
      "Epoch 19, CIFAR-10 Batch 5:  Loss:     0.9252 Validation Accuracy: 0.578400\n",
      "Epoch 20, CIFAR-10 Batch 1:  Loss:     0.8814 Validation Accuracy: 0.579400\n",
      "Epoch 20, CIFAR-10 Batch 2:  Loss:     0.9318 Validation Accuracy: 0.579600\n",
      "Epoch 20, CIFAR-10 Batch 3:  Loss:     0.7807 Validation Accuracy: 0.582600\n",
      "Epoch 20, CIFAR-10 Batch 4:  Loss:     0.8650 Validation Accuracy: 0.581400\n",
      "Epoch 20, CIFAR-10 Batch 5:  Loss:     0.9113 Validation Accuracy: 0.584000\n",
      "Epoch 21, CIFAR-10 Batch 1:  Loss:     0.8680 Validation Accuracy: 0.585000\n",
      "Epoch 21, CIFAR-10 Batch 2:  Loss:     0.9114 Validation Accuracy: 0.578600\n",
      "Epoch 21, CIFAR-10 Batch 3:  Loss:     0.7706 Validation Accuracy: 0.588400\n",
      "Epoch 21, CIFAR-10 Batch 4:  Loss:     0.8476 Validation Accuracy: 0.585800\n",
      "Epoch 21, CIFAR-10 Batch 5:  Loss:     0.9201 Validation Accuracy: 0.577200\n",
      "Epoch 22, CIFAR-10 Batch 1:  Loss:     0.8568 Validation Accuracy: 0.591800\n",
      "Epoch 22, CIFAR-10 Batch 2:  Loss:     0.8879 Validation Accuracy: 0.578600\n",
      "Epoch 22, CIFAR-10 Batch 3:  Loss:     0.7384 Validation Accuracy: 0.586000\n",
      "Epoch 22, CIFAR-10 Batch 4:  Loss:     0.8007 Validation Accuracy: 0.593400\n",
      "Epoch 22, CIFAR-10 Batch 5:  Loss:     0.8654 Validation Accuracy: 0.591200\n",
      "Epoch 23, CIFAR-10 Batch 1:  Loss:     0.8755 Validation Accuracy: 0.581800\n",
      "Epoch 23, CIFAR-10 Batch 2:  Loss:     0.8751 Validation Accuracy: 0.581800\n",
      "Epoch 23, CIFAR-10 Batch 3:  Loss:     0.7228 Validation Accuracy: 0.588400\n",
      "Epoch 23, CIFAR-10 Batch 4:  Loss:     0.8162 Validation Accuracy: 0.589400\n",
      "Epoch 23, CIFAR-10 Batch 5:  Loss:     0.8571 Validation Accuracy: 0.581400\n",
      "Epoch 24, CIFAR-10 Batch 1:  Loss:     0.8466 Validation Accuracy: 0.598400\n",
      "Epoch 24, CIFAR-10 Batch 2:  Loss:     0.8455 Validation Accuracy: 0.587200\n",
      "Epoch 24, CIFAR-10 Batch 3:  Loss:     0.6979 Validation Accuracy: 0.595000\n",
      "Epoch 24, CIFAR-10 Batch 4:  Loss:     0.7868 Validation Accuracy: 0.590400\n",
      "Epoch 24, CIFAR-10 Batch 5:  Loss:     0.8190 Validation Accuracy: 0.592400\n",
      "Epoch 25, CIFAR-10 Batch 1:  Loss:     0.8035 Validation Accuracy: 0.601600\n",
      "Epoch 25, CIFAR-10 Batch 2:  Loss:     0.8500 Validation Accuracy: 0.587400\n",
      "Epoch 25, CIFAR-10 Batch 3:  Loss:     0.6863 Validation Accuracy: 0.599200\n",
      "Epoch 25, CIFAR-10 Batch 4:  Loss:     0.7660 Validation Accuracy: 0.591600\n",
      "Epoch 25, CIFAR-10 Batch 5:  Loss:     0.8087 Validation Accuracy: 0.592600\n",
      "Epoch 26, CIFAR-10 Batch 1:  Loss:     0.8164 Validation Accuracy: 0.594600\n",
      "Epoch 26, CIFAR-10 Batch 2:  Loss:     0.7853 Validation Accuracy: 0.585800\n",
      "Epoch 26, CIFAR-10 Batch 3:  Loss:     0.6758 Validation Accuracy: 0.599000\n",
      "Epoch 26, CIFAR-10 Batch 4:  Loss:     0.7322 Validation Accuracy: 0.597400\n",
      "Epoch 26, CIFAR-10 Batch 5:  Loss:     0.8034 Validation Accuracy: 0.585400\n",
      "Epoch 27, CIFAR-10 Batch 1:  Loss:     0.8229 Validation Accuracy: 0.597600\n",
      "Epoch 27, CIFAR-10 Batch 2:  Loss:     0.8527 Validation Accuracy: 0.589600\n",
      "Epoch 27, CIFAR-10 Batch 3:  Loss:     0.6739 Validation Accuracy: 0.590600\n",
      "Epoch 27, CIFAR-10 Batch 4:  Loss:     0.7190 Validation Accuracy: 0.602400\n",
      "Epoch 27, CIFAR-10 Batch 5:  Loss:     0.7372 Validation Accuracy: 0.602200\n",
      "Epoch 28, CIFAR-10 Batch 1:  Loss:     0.8031 Validation Accuracy: 0.589000\n",
      "Epoch 28, CIFAR-10 Batch 2:  Loss:     0.8039 Validation Accuracy: 0.591200\n",
      "Epoch 28, CIFAR-10 Batch 3:  Loss:     0.6286 Validation Accuracy: 0.604200\n",
      "Epoch 28, CIFAR-10 Batch 4:  Loss:     0.7312 Validation Accuracy: 0.596400\n",
      "Epoch 28, CIFAR-10 Batch 5:  Loss:     0.7228 Validation Accuracy: 0.601000\n",
      "Epoch 29, CIFAR-10 Batch 1:  Loss:     0.7716 Validation Accuracy: 0.607200\n",
      "Epoch 29, CIFAR-10 Batch 2:  Loss:     0.7442 Validation Accuracy: 0.597400\n",
      "Epoch 29, CIFAR-10 Batch 3:  Loss:     0.6395 Validation Accuracy: 0.613000\n",
      "Epoch 29, CIFAR-10 Batch 4:  Loss:     0.7193 Validation Accuracy: 0.594400\n",
      "Epoch 29, CIFAR-10 Batch 5:  Loss:     0.7189 Validation Accuracy: 0.598600\n",
      "Epoch 30, CIFAR-10 Batch 1:  Loss:     0.7679 Validation Accuracy: 0.601400\n",
      "Epoch 30, CIFAR-10 Batch 2:  Loss:     0.7779 Validation Accuracy: 0.599000\n",
      "Epoch 30, CIFAR-10 Batch 3:  Loss:     0.6100 Validation Accuracy: 0.614000\n",
      "Epoch 30, CIFAR-10 Batch 4:  Loss:     0.7253 Validation Accuracy: 0.605000\n",
      "Epoch 30, CIFAR-10 Batch 5:  Loss:     0.6921 Validation Accuracy: 0.600600\n",
      "Epoch 31, CIFAR-10 Batch 1:  Loss:     0.7663 Validation Accuracy: 0.603800\n",
      "Epoch 31, CIFAR-10 Batch 2:  Loss:     0.7605 Validation Accuracy: 0.604400\n",
      "Epoch 31, CIFAR-10 Batch 3:  Loss:     0.6324 Validation Accuracy: 0.606000\n",
      "Epoch 31, CIFAR-10 Batch 4:  Loss:     0.6765 Validation Accuracy: 0.596200\n",
      "Epoch 31, CIFAR-10 Batch 5:  Loss:     0.6901 Validation Accuracy: 0.612600\n",
      "Epoch 32, CIFAR-10 Batch 1:  Loss:     0.7945 Validation Accuracy: 0.600200\n",
      "Epoch 32, CIFAR-10 Batch 2:  Loss:     0.7938 Validation Accuracy: 0.606200\n",
      "Epoch 32, CIFAR-10 Batch 3:  Loss:     0.5702 Validation Accuracy: 0.610000\n",
      "Epoch 32, CIFAR-10 Batch 4:  Loss:     0.6783 Validation Accuracy: 0.595200\n",
      "Epoch 32, CIFAR-10 Batch 5:  Loss:     0.7043 Validation Accuracy: 0.598000\n",
      "Epoch 33, CIFAR-10 Batch 1:  Loss:     0.7352 Validation Accuracy: 0.599600\n",
      "Epoch 33, CIFAR-10 Batch 2:  Loss:     0.7398 Validation Accuracy: 0.600200\n",
      "Epoch 33, CIFAR-10 Batch 3:  Loss:     0.6074 Validation Accuracy: 0.613000\n",
      "Epoch 33, CIFAR-10 Batch 4:  Loss:     0.6600 Validation Accuracy: 0.597000\n",
      "Epoch 33, CIFAR-10 Batch 5:  Loss:     0.6934 Validation Accuracy: 0.603000\n",
      "Epoch 34, CIFAR-10 Batch 1:  Loss:     0.7309 Validation Accuracy: 0.594000\n",
      "Epoch 34, CIFAR-10 Batch 2:  Loss:     0.7486 Validation Accuracy: 0.600200\n",
      "Epoch 34, CIFAR-10 Batch 3:  Loss:     0.5548 Validation Accuracy: 0.605000\n",
      "Epoch 34, CIFAR-10 Batch 4:  Loss:     0.6539 Validation Accuracy: 0.602000\n",
      "Epoch 34, CIFAR-10 Batch 5:  Loss:     0.6711 Validation Accuracy: 0.608000\n",
      "Epoch 35, CIFAR-10 Batch 1:  Loss:     0.6946 Validation Accuracy: 0.612200\n",
      "Epoch 35, CIFAR-10 Batch 2:  Loss:     0.7537 Validation Accuracy: 0.608400\n",
      "Epoch 35, CIFAR-10 Batch 3:  Loss:     0.5788 Validation Accuracy: 0.609400\n",
      "Epoch 35, CIFAR-10 Batch 4:  Loss:     0.6340 Validation Accuracy: 0.606600\n",
      "Epoch 35, CIFAR-10 Batch 5:  Loss:     0.6521 Validation Accuracy: 0.608400\n",
      "Epoch 36, CIFAR-10 Batch 1:  Loss:     0.7129 Validation Accuracy: 0.589000\n",
      "Epoch 36, CIFAR-10 Batch 2:  Loss:     0.7344 Validation Accuracy: 0.606400\n",
      "Epoch 36, CIFAR-10 Batch 3:  Loss:     0.5586 Validation Accuracy: 0.611400\n",
      "Epoch 36, CIFAR-10 Batch 4:  Loss:     0.6236 Validation Accuracy: 0.601600\n",
      "Epoch 36, CIFAR-10 Batch 5:  Loss:     0.6466 Validation Accuracy: 0.600600\n",
      "Epoch 37, CIFAR-10 Batch 1:  Loss:     0.6803 Validation Accuracy: 0.603400\n",
      "Epoch 37, CIFAR-10 Batch 2:  Loss:     0.6773 Validation Accuracy: 0.613400\n",
      "Epoch 37, CIFAR-10 Batch 3:  Loss:     0.5369 Validation Accuracy: 0.614600\n",
      "Epoch 37, CIFAR-10 Batch 4:  Loss:     0.5916 Validation Accuracy: 0.604000\n",
      "Epoch 37, CIFAR-10 Batch 5:  Loss:     0.6385 Validation Accuracy: 0.614000\n",
      "Epoch 38, CIFAR-10 Batch 1:  Loss:     0.6582 Validation Accuracy: 0.603800\n",
      "Epoch 38, CIFAR-10 Batch 2:  Loss:     0.6983 Validation Accuracy: 0.615200\n",
      "Epoch 38, CIFAR-10 Batch 3:  Loss:     0.5149 Validation Accuracy: 0.616000\n",
      "Epoch 38, CIFAR-10 Batch 4:  Loss:     0.6006 Validation Accuracy: 0.603800\n",
      "Epoch 38, CIFAR-10 Batch 5:  Loss:     0.6023 Validation Accuracy: 0.609800\n",
      "Epoch 39, CIFAR-10 Batch 1:  Loss:     0.6509 Validation Accuracy: 0.600200\n",
      "Epoch 39, CIFAR-10 Batch 2:  Loss:     0.7105 Validation Accuracy: 0.616200\n",
      "Epoch 39, CIFAR-10 Batch 3:  Loss:     0.4911 Validation Accuracy: 0.613200\n",
      "Epoch 39, CIFAR-10 Batch 4:  Loss:     0.6116 Validation Accuracy: 0.597800\n",
      "Epoch 39, CIFAR-10 Batch 5:  Loss:     0.6202 Validation Accuracy: 0.615200\n",
      "Epoch 40, CIFAR-10 Batch 1:  Loss:     0.6263 Validation Accuracy: 0.597000\n",
      "Epoch 40, CIFAR-10 Batch 2:  Loss:     0.7215 Validation Accuracy: 0.610000\n",
      "Epoch 40, CIFAR-10 Batch 3:  Loss:     0.5470 Validation Accuracy: 0.607000\n",
      "Epoch 40, CIFAR-10 Batch 4:  Loss:     0.5623 Validation Accuracy: 0.611800\n",
      "Epoch 40, CIFAR-10 Batch 5:  Loss:     0.5949 Validation Accuracy: 0.614600\n",
      "Epoch 41, CIFAR-10 Batch 1:  Loss:     0.6482 Validation Accuracy: 0.599400\n",
      "Epoch 41, CIFAR-10 Batch 2:  Loss:     0.6668 Validation Accuracy: 0.615600\n",
      "Epoch 41, CIFAR-10 Batch 3:  Loss:     0.4879 Validation Accuracy: 0.611600\n",
      "Epoch 41, CIFAR-10 Batch 4:  Loss:     0.5786 Validation Accuracy: 0.612400\n",
      "Epoch 41, CIFAR-10 Batch 5:  Loss:     0.6184 Validation Accuracy: 0.616800\n",
      "Epoch 42, CIFAR-10 Batch 1:  Loss:     0.6290 Validation Accuracy: 0.600400\n",
      "Epoch 42, CIFAR-10 Batch 2:  Loss:     0.6518 Validation Accuracy: 0.615600\n",
      "Epoch 42, CIFAR-10 Batch 3:  Loss:     0.4863 Validation Accuracy: 0.610000\n",
      "Epoch 42, CIFAR-10 Batch 4:  Loss:     0.5504 Validation Accuracy: 0.606800\n",
      "Epoch 42, CIFAR-10 Batch 5:  Loss:     0.5638 Validation Accuracy: 0.615400\n",
      "Epoch 43, CIFAR-10 Batch 1:  Loss:     0.5621 Validation Accuracy: 0.611600\n",
      "Epoch 43, CIFAR-10 Batch 2:  Loss:     0.6276 Validation Accuracy: 0.625400\n",
      "Epoch 43, CIFAR-10 Batch 3:  Loss:     0.4967 Validation Accuracy: 0.608800\n",
      "Epoch 43, CIFAR-10 Batch 4:  Loss:     0.5336 Validation Accuracy: 0.612000\n",
      "Epoch 43, CIFAR-10 Batch 5:  Loss:     0.5748 Validation Accuracy: 0.613800\n",
      "Epoch 44, CIFAR-10 Batch 1:  Loss:     0.5943 Validation Accuracy: 0.597200\n",
      "Epoch 44, CIFAR-10 Batch 2:  Loss:     0.6304 Validation Accuracy: 0.625600\n",
      "Epoch 44, CIFAR-10 Batch 3:  Loss:     0.4783 Validation Accuracy: 0.611400\n",
      "Epoch 44, CIFAR-10 Batch 4:  Loss:     0.5432 Validation Accuracy: 0.622600\n",
      "Epoch 44, CIFAR-10 Batch 5:  Loss:     0.5847 Validation Accuracy: 0.615800\n",
      "Epoch 45, CIFAR-10 Batch 1:  Loss:     0.5782 Validation Accuracy: 0.597200\n",
      "Epoch 45, CIFAR-10 Batch 2:  Loss:     0.6246 Validation Accuracy: 0.623200\n",
      "Epoch 45, CIFAR-10 Batch 3:  Loss:     0.4837 Validation Accuracy: 0.614000\n",
      "Epoch 45, CIFAR-10 Batch 4:  Loss:     0.5306 Validation Accuracy: 0.625200\n",
      "Epoch 45, CIFAR-10 Batch 5:  Loss:     0.5668 Validation Accuracy: 0.623600\n",
      "Epoch 46, CIFAR-10 Batch 1:  Loss:     0.5560 Validation Accuracy: 0.612200\n",
      "Epoch 46, CIFAR-10 Batch 2:  Loss:     0.6294 Validation Accuracy: 0.625000\n",
      "Epoch 46, CIFAR-10 Batch 3:  Loss:     0.4608 Validation Accuracy: 0.630400\n",
      "Epoch 46, CIFAR-10 Batch 4:  Loss:     0.5241 Validation Accuracy: 0.616000\n",
      "Epoch 46, CIFAR-10 Batch 5:  Loss:     0.5308 Validation Accuracy: 0.624000\n",
      "Epoch 47, CIFAR-10 Batch 1:  Loss:     0.5504 Validation Accuracy: 0.610400\n",
      "Epoch 47, CIFAR-10 Batch 2:  Loss:     0.6349 Validation Accuracy: 0.622400\n",
      "Epoch 47, CIFAR-10 Batch 3:  Loss:     0.4384 Validation Accuracy: 0.625200\n",
      "Epoch 47, CIFAR-10 Batch 4:  Loss:     0.5303 Validation Accuracy: 0.619800\n",
      "Epoch 47, CIFAR-10 Batch 5:  Loss:     0.5637 Validation Accuracy: 0.619400\n",
      "Epoch 48, CIFAR-10 Batch 1:  Loss:     0.5691 Validation Accuracy: 0.606400\n",
      "Epoch 48, CIFAR-10 Batch 2:  Loss:     0.6132 Validation Accuracy: 0.628400\n",
      "Epoch 48, CIFAR-10 Batch 3:  Loss:     0.4722 Validation Accuracy: 0.627200\n",
      "Epoch 48, CIFAR-10 Batch 4:  Loss:     0.5381 Validation Accuracy: 0.602600\n",
      "Epoch 48, CIFAR-10 Batch 5:  Loss:     0.5462 Validation Accuracy: 0.619200\n",
      "Epoch 49, CIFAR-10 Batch 1:  Loss:     0.5566 Validation Accuracy: 0.619000\n",
      "Epoch 49, CIFAR-10 Batch 2:  Loss:     0.5904 Validation Accuracy: 0.625800\n",
      "Epoch 49, CIFAR-10 Batch 3:  Loss:     0.4292 Validation Accuracy: 0.627800\n",
      "Epoch 49, CIFAR-10 Batch 4:  Loss:     0.4893 Validation Accuracy: 0.624600\n",
      "Epoch 49, CIFAR-10 Batch 5:  Loss:     0.5425 Validation Accuracy: 0.618600\n",
      "Epoch 50, CIFAR-10 Batch 1:  Loss:     0.5424 Validation Accuracy: 0.620600\n",
      "Epoch 50, CIFAR-10 Batch 2:  Loss:     0.5988 Validation Accuracy: 0.631200\n",
      "Epoch 50, CIFAR-10 Batch 3:  Loss:     0.4444 Validation Accuracy: 0.627800\n",
      "Epoch 50, CIFAR-10 Batch 4:  Loss:     0.4737 Validation Accuracy: 0.617600\n",
      "Epoch 50, CIFAR-10 Batch 5:  Loss:     0.5227 Validation Accuracy: 0.618400\n"
     ]
    }
   ],
   "source": [
    "\"\"\"\n",
    "DON'T MODIFY ANYTHING IN THIS CELL\n",
    "\"\"\"\n",
    "save_model_path = './image_classification'\n",
    "\n",
    "print('Training...')\n",
    "with tf.Session() as sess:\n",
    "    # Initializing the variables\n",
    "    sess.run(tf.global_variables_initializer())\n",
    "    \n",
    "    # Training cycle\n",
    "    for epoch in range(epochs):\n",
    "        # Loop over all batches\n",
    "        n_batches = 5\n",
    "        for batch_i in range(1, n_batches + 1):\n",
    "            for batch_features, batch_labels in helper.load_preprocess_training_batch(batch_i, batch_size):\n",
    "                train_neural_network(sess, optimizer, keep_probability, batch_features, batch_labels)\n",
    "            print('Epoch {:>2}, CIFAR-10 Batch {}:  '.format(epoch + 1, batch_i), end='')\n",
    "            print_stats(sess, batch_features, batch_labels, cost, accuracy)\n",
    "            \n",
    "    # Save Model\n",
    "    saver = tf.train.Saver()\n",
    "    save_path = saver.save(sess, save_model_path)"
   ]
  },
  {
   "cell_type": "markdown",
   "metadata": {},
   "source": [
    "# Checkpoint\n",
    "The model has been saved to disk.\n",
    "## Test Model\n",
    "Test your model against the test dataset.  This will be your final accuracy. You should have an accuracy greater than 50%. If you don't, keep tweaking the model architecture and parameters."
   ]
  },
  {
   "cell_type": "code",
   "execution_count": 22,
   "metadata": {
    "collapsed": false
   },
   "outputs": [
    {
     "name": "stdout",
     "output_type": "stream",
     "text": [
      "Testing Accuracy: 0.61748046875\n",
      "\n"
     ]
    },
    {
     "data": {
      "image/png": "[encoded data removed]",
      "text/plain": [
       "<matplotlib.figure.Figure at 0x7f743c70eb70>"
      ]
     },
     "metadata": {
      "image/png": {
       "height": 319,
       "width": 355
      }
     },
     "output_type": "display_data"
    }
   ],
   "source": [
    "\"\"\"\n",
    "DON'T MODIFY ANYTHING IN THIS CELL\n",
    "\"\"\"\n",
    "%matplotlib inline\n",
    "%config InlineBackend.figure_format = 'retina'\n",
    "\n",
    "import tensorflow as tf\n",
    "import pickle\n",
    "import helper\n",
    "import random\n",
    "\n",
    "# Set batch size if not already set\n",
    "try:\n",
    "    if batch_size:\n",
    "        pass\n",
    "except NameError:\n",
    "    batch_size = 64\n",
    "\n",
    "save_model_path = './image_classification'\n",
    "n_samples = 4\n",
    "top_n_predictions = 3\n",
    "\n",
    "def test_model():\n",
    "    \"\"\"\n",
    "    Test the saved model against the test dataset\n",
    "    \"\"\"\n",
    "\n",
    "    test_features, test_labels = pickle.load(open('preprocess_training.p', mode='rb'))\n",
    "    loaded_graph = tf.Graph()\n",
    "\n",
    "    with tf.Session(graph=loaded_graph) as sess:\n",
    "        # Load model\n",
    "        loader = tf.train.import_meta_graph(save_model_path + '.meta')\n",
    "        loader.restore(sess, save_model_path)\n",
    "\n",
    "        # Get Tensors from loaded model\n",
    "        loaded_x = loaded_graph.get_tensor_by_name('x:0')\n",
    "        loaded_y = loaded_graph.get_tensor_by_name('y:0')\n",
    "        loaded_keep_prob = loaded_graph.get_tensor_by_name('keep_prob:0')\n",
    "        loaded_logits = loaded_graph.get_tensor_by_name('logits:0')\n",
    "        loaded_acc = loaded_graph.get_tensor_by_name('accuracy:0')\n",
    "        \n",
    "        # Get accuracy in batches for memory limitations\n",
    "        test_batch_acc_total = 0\n",
    "        test_batch_count = 0\n",
    "        \n",
    "        for train_feature_batch, train_label_batch in helper.batch_features_labels(test_features, test_labels, batch_size):\n",
    "            test_batch_acc_total += sess.run(\n",
    "                loaded_acc,\n",
    "                feed_dict={loaded_x: train_feature_batch, loaded_y: train_label_batch, loaded_keep_prob: 1.0})\n",
    "            test_batch_count += 1\n",
    "\n",
    "        print('Testing Accuracy: {}\\n'.format(test_batch_acc_total/test_batch_count))\n",
    "\n",
    "        # Print Random Samples\n",
    "        random_test_features, random_test_labels = tuple(zip(*random.sample(list(zip(test_features, test_labels)), n_samples)))\n",
    "        random_test_predictions = sess.run(\n",
    "            tf.nn.top_k(tf.nn.softmax(loaded_logits), top_n_predictions),\n",
    "            feed_dict={loaded_x: random_test_features, loaded_y: random_test_labels, loaded_keep_prob: 1.0})\n",
    "        helper.display_image_predictions(random_test_features, random_test_labels, random_test_predictions)\n",
    "\n",
    "\n",
    "test_model()"
   ]
  },
  {
   "cell_type": "markdown",
   "metadata": {},
   "source": [
    "## Why 50-70% Accuracy?\n",
    "You might be wondering why you can't get an accuracy any higher. First things first, 50% isn't bad for a simple CNN.  Pure guessing would get you 10% accuracy. However, you might notice people are getting scores [well above 70%](http://rodrigob.github.io/are_we_there_yet/build/classification_datasets_results.html#43494641522d3130).  That's because we haven't taught you all there is to know about neural networks. We still need to cover a few more techniques.\n",
    "## Submitting This Project\n",
    "When submitting this project, make sure to run all the cells before saving the notebook.  Save the notebook file as \"dlnd_image_classification.ipynb\" and save it as a HTML file under \"File\" -> \"Download as\".  Include the \"helper.py\" and \"problem_unittests.py\" files in your submission."
   ]
  }
 ],
 "metadata": {
  "kernelspec": {
   "display_name": "Python 3",
   "language": "python",
   "name": "python3"
  },
  "language_info": {
   "codemirror_mode": {
    "name": "ipython",
    "version": 3
   },
   "file_extension": ".py",
   "mimetype": "text/x-python",
   "name": "python",
   "nbconvert_exporter": "python",
   "pygments_lexer": "ipython3",
   "version": "3.5.3"
  }
 },
 "nbformat": 4,
 "nbformat_minor": 0
}
